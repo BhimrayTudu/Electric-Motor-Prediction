{
 "cells": [
  {
   "cell_type": "code",
   "execution_count": 1,
   "id": "37c370e4-34a6-4e89-88b1-0603b72961a3",
   "metadata": {},
   "outputs": [
    {
     "name": "stderr",
     "output_type": "stream",
     "text": [
      "2025-02-13 12:49:47.373 \n",
      "  \u001b[33m\u001b[1mWarning:\u001b[0m to view this Streamlit app on a browser, run it with the following\n",
      "  command:\n",
      "\n",
      "    streamlit run C:\\Users\\bhimr\\AppData\\Roaming\\Python\\Python312\\site-packages\\ipykernel_launcher.py [ARGUMENTS]\n",
      "2025-02-13 12:49:47.382 Session state does not function when running a script without `streamlit run`\n"
     ]
    }
   ],
   "source": [
    "import streamlit as st\n",
    "import joblib\n",
    "import numpy as np\n",
    "\n",
    "# Load the trained model\n",
    "model = joblib.load('Random_model.pkl')\n",
    "\n",
    "# Define feature names (should match the model's expected input)\n",
    "feature_names = ['ambient', 'coolant', 'u_d', 'u_q', 'torque', 'i_d', 'i_q', 'pm', 'stator_yoke', 'stator_tooth', 'stator_winding']\n",
    "\n",
    "# Title of the application\n",
    "st.title(\"Electric Motor Prediction\")\n",
    "\n",
    "# User input section\n",
    "st.sidebar.header(\"Input Features\")\n",
    "\n",
    "# Dynamically generate input fields\n",
    "input_values = []\n",
    "for feature in feature_names:\n",
    "    value = st.sidebar.number_input(f\"Enter {feature}\", value=25.0)  # Adjust default value\n",
    "    input_values.append(value)\n",
    "\n",
    "# Convert input values to NumPy array\n",
    "input_data = np.array([input_values]).reshape(1, -1)\n",
    "\n",
    "# Prediction\n",
    "if st.sidebar.button(\"Predict\"):\n",
    "    if input_data.shape[1] != model.n_features_in_:\n",
    "        st.sidebar.error(f\"Feature mismatch: Model expects {model.n_features_in_} features, but received {input_data.shape[1]}\")\n",
    "    else:\n",
    "        prediction = model.predict(input_data)\n",
    "        st.sidebar.success(f\"Predicted Value: {prediction[0]:.2f}\")\n"
   ]
  },
  {
   "cell_type": "code",
   "execution_count": null,
   "id": "b89693dc-d354-4f5c-aad6-01c760331482",
   "metadata": {},
   "outputs": [],
   "source": []
  }
 ],
 "metadata": {
  "kernelspec": {
   "display_name": "Python 3 (ipykernel)",
   "language": "python",
   "name": "python3"
  },
  "language_info": {
   "codemirror_mode": {
    "name": "ipython",
    "version": 3
   },
   "file_extension": ".py",
   "mimetype": "text/x-python",
   "name": "python",
   "nbconvert_exporter": "python",
   "pygments_lexer": "ipython3",
   "version": "3.12.7"
  }
 },
 "nbformat": 4,
 "nbformat_minor": 5
}
